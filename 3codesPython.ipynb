{
  "nbformat": 4,
  "nbformat_minor": 0,
  "metadata": {
    "colab": {
      "provenance": [],
      "authorship_tag": "ABX9TyP9jTqZAoOVzn5SFRMm1TpX",
      "include_colab_link": true
    },
    "kernelspec": {
      "name": "python3",
      "display_name": "Python 3"
    },
    "language_info": {
      "name": "python"
    }
  },
  "cells": [
    {
      "cell_type": "markdown",
      "metadata": {
        "id": "view-in-github",
        "colab_type": "text"
      },
      "source": [
        "<a href=\"https://colab.research.google.com/github/alu231172-sq/Repaso-Python/blob/main/3codesPython.ipynb\" target=\"_parent\"><img src=\"https://colab.research.google.com/assets/colab-badge.svg\" alt=\"Open In Colab\"/></a>"
      ]
    },
    {
      "cell_type": "code",
      "execution_count": null,
      "metadata": {
        "id": "0niachKM5L8B"
      },
      "outputs": [],
      "source": []
    },
    {
      "cell_type": "markdown",
      "source": [
        "Ejercicios a desarollar en Colab con GitHub\n",
        "1. Realiza un programa en python que te permita capturar 2 numeros enteros e imprima la suma, resta, multiplicacion y division de ellos\n",
        "2. realizar un programa en python que calcule el total de caracteres de un nombre capturado por teclado\n",
        "3. Realizar un programa en python que permita imprimir los 7 dias de la semana"
      ],
      "metadata": {
        "id": "vufS5RHs5PKw"
      }
    },
    {
      "cell_type": "markdown",
      "source": [
        "Codigo 1: calculadora simple"
      ],
      "metadata": {
        "id": "REghXdU16txk"
      }
    },
    {
      "cell_type": "code",
      "source": [
        "print(\"     Calculadora simple\")\n",
        "print(\" \")\n",
        "\n",
        "num=(input(\"Ingresa un numero entero: \"))\n",
        "n1=int(num)\n",
        "nums=(input(\"Ingresa un numero entero: \"))\n",
        "n2=int(nums)\n",
        "\n",
        "a=n1+n2\n",
        "b=n1-n2\n",
        "c=n1*n2\n",
        "d=n1/n2\n",
        "\n",
        "print(\"Resultado de las operaciones\")\n",
        "print(\"Suma:\",a)\n",
        "print(\"Resta:\",b)\n",
        "print(\"Multiplicacion:\",c)\n",
        "print(\"Division\",d)\n"
      ],
      "metadata": {
        "colab": {
          "base_uri": "https://localhost:8080/"
        },
        "id": "xxm_f_7w6qIF",
        "outputId": "2fa2aaba-92e9-4701-c8f8-da1aba6ec454"
      },
      "execution_count": 5,
      "outputs": [
        {
          "output_type": "stream",
          "name": "stdout",
          "text": [
            "     Calculadora simple\n",
            " \n",
            "Ingresa un numero entero: 2\n",
            "Ingresa un numero entero: 4\n",
            "Resultado de las operaciones\n",
            "Suma: 6\n",
            "Resta: -2\n",
            "Multiplicacion: 8\n",
            "Division 0.5\n"
          ]
        }
      ]
    },
    {
      "cell_type": "markdown",
      "source": [
        "Codigo 2: Contador de strings"
      ],
      "metadata": {
        "id": "g4jVf-cw_eog"
      }
    },
    {
      "cell_type": "code",
      "source": [
        "name=(input(\"Ingresa tu nombre \"))\n",
        "nl=len(name)\n",
        "print(\"Tu nombre tiene\",nl,\"caracteres\")"
      ],
      "metadata": {
        "colab": {
          "base_uri": "https://localhost:8080/"
        },
        "id": "d38ms8Bf_keg",
        "outputId": "2ea17b56-9137-4559-97d6-e6d11c18fa64"
      },
      "execution_count": 7,
      "outputs": [
        {
          "output_type": "stream",
          "name": "stdout",
          "text": [
            "Ingresa tu nombre Yesica\n",
            "Tu nombre tiene 6 caracteres\n"
          ]
        }
      ]
    },
    {
      "cell_type": "markdown",
      "source": [
        "Codigo 3: Weeks"
      ],
      "metadata": {
        "id": "yluPfKapASzX"
      }
    },
    {
      "cell_type": "code",
      "source": [
        "op=(input(\"Selecciona un numero entre el 1 y 7 \"))\n",
        "if op==\"1\":\n",
        "  print(\"Lunes\")\n",
        "elif op==\"2\":\n",
        "  print(\"Martes\")\n",
        "elif op==\"3\":\n",
        "  print(\"Miercoles\")\n",
        "elif op==\"4\":\n",
        "  print(\"Jueves\")\n",
        "elif op==\"5\":\n",
        "  print(\"Viernes\")\n",
        "elif op==\"6\":\n",
        "  print(\"Sabado\")\n",
        "elif op==\"7\":\n",
        "  print(\"Domingo\")\n",
        "else:\n",
        "  print(\"solo hay 7 dias por semana\")"
      ],
      "metadata": {
        "colab": {
          "base_uri": "https://localhost:8080/"
        },
        "id": "itgbw2HkAVx2",
        "outputId": "a9e4334c-c624-4950-8782-357c872a4338"
      },
      "execution_count": 12,
      "outputs": [
        {
          "output_type": "stream",
          "name": "stdout",
          "text": [
            "Selecciona un numero entre el 1 y 7 1\n",
            "Lunes\n"
          ]
        }
      ]
    }
  ]
}