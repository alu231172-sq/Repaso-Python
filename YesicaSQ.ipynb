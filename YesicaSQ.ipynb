{
  "nbformat": 4,
  "nbformat_minor": 0,
  "metadata": {
    "colab": {
      "provenance": [],
      "authorship_tag": "ABX9TyMr2s01GciRe/3uJcokEnKe",
      "include_colab_link": true
    },
    "kernelspec": {
      "name": "python3",
      "display_name": "Python 3"
    },
    "language_info": {
      "name": "python"
    }
  },
  "cells": [
    {
      "cell_type": "markdown",
      "metadata": {
        "id": "view-in-github",
        "colab_type": "text"
      },
      "source": [
        "<a href=\"https://colab.research.google.com/github/alu231172-sq/Repaso-Python/blob/main/YesicaSQ.ipynb\" target=\"_parent\"><img src=\"https://colab.research.google.com/assets/colab-badge.svg\" alt=\"Open In Colab\"/></a>"
      ]
    },
    {
      "cell_type": "code",
      "execution_count": null,
      "metadata": {
        "id": "1kcMuEY4z7ff"
      },
      "outputs": [],
      "source": []
    },
    {
      "cell_type": "markdown",
      "source": [
        "Programa 1 en python para imprimir mi nombre con hola mundo"
      ],
      "metadata": {
        "id": "feh9ABFT0K6l"
      }
    },
    {
      "cell_type": "code",
      "source": [
        "print (\"Hola mundo\")\n",
        "nombre = (input(\"Captura tu nombre\"))\n",
        "print (\"Hola,\",nombre)"
      ],
      "metadata": {
        "colab": {
          "base_uri": "https://localhost:8080/"
        },
        "id": "5nepNFq50VSc",
        "outputId": "6d95a72f-e678-4cc1-889b-e1adedfba236"
      },
      "execution_count": 6,
      "outputs": [
        {
          "output_type": "stream",
          "name": "stdout",
          "text": [
            "Hola mundo\n",
            "Captura tu nombreYesi\n",
            "Hola, Yesi\n"
          ]
        }
      ]
    },
    {
      "cell_type": "markdown",
      "source": [
        "Programa 2 captura tu nombre paterno y materno e imprimirlo en pantalla"
      ],
      "metadata": {
        "id": "MxPFqv_e1eyi"
      }
    },
    {
      "cell_type": "code",
      "source": [
        "names = (input(\"Hola, Cual es tu nombre?\"))\n",
        "ndad = (input(\"Por favor ingresa tu apellido paterno\"))\n",
        "nmom = (input(\"Ahora ingresa tu apellido materno\"))\n",
        "\n",
        "print(\"Mucho gusto,\",names,ndad,nmom)\n",
        "\n",
        "#join team c00lkid today >:D"
      ],
      "metadata": {
        "colab": {
          "base_uri": "https://localhost:8080/"
        },
        "id": "Rfe3EqtI1mXB",
        "outputId": "b83233d0-3a4c-429b-978b-5e5488ff7840"
      },
      "execution_count": 7,
      "outputs": [
        {
          "output_type": "stream",
          "name": "stdout",
          "text": [
            "Hola, Cual es tu nombre?Devil\n",
            "Por favor ingresa tu apellido paternoSoto\n",
            "Ahora ingresa tu apellido maternoQuezada\n",
            "Mucho gusto, Devil Soto Quezada\n"
          ]
        }
      ]
    }
  ]
}